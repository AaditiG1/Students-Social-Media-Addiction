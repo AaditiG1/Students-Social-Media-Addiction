{
 "cells": [
  {
   "cell_type": "code",
   "execution_count": 110,
   "id": "a7005e51-b7bd-4e6a-af4d-013b9009dc8d",
   "metadata": {},
   "outputs": [
    {
     "name": "stdout",
     "output_type": "stream",
     "text": [
      "Preprocessed data loaded successfully!\n",
      "Feature-selected data loaded successfully!\n",
      "Selected features: ['Mental_Health_Score', 'Sleep_Hours_Per_Night', 'Avg_Daily_Usage_Hours', 'Affects_Academic_Performance_Yes']\n"
     ]
    }
   ],
   "source": [
    "import os\n",
    "import joblib\n",
    "import pandas as pd\n",
    "import numpy as np\n",
    "from sklearn.ensemble import RandomForestRegressor\n",
    "import matplotlib.pyplot as plt\n",
    "import seaborn as sns\n",
    "from sklearn.model_selection import train_test_split\n",
    "from sklearn.metrics import mean_squared_error, r2_score\n",
    "# Load preprocessed data\n",
    "preprocessing_objects = joblib.load(\"../outputs/preprocessing_all.pkl\")\n",
    "\n",
    "df_final_encoded = preprocessing_objects[\"data\"]\n",
    "binary_encoder = preprocessing_objects[\"binary_encoder\"]\n",
    "multi_encoder = preprocessing_objects[\"multi_encoder\"]\n",
    "\n",
    "print(\"Preprocessed data loaded successfully!\")\n",
    "\n",
    "# Load model training data with feature selection\n",
    "training_data = joblib.load(\"../outputs/model_training_data_with_features.pkl\")\n",
    "\n",
    "X_final = training_data[\"X_final\"]  # Only feature-selected columns\n",
    "y = training_data[\"y\"]              # Target variable\n",
    "\n",
    "print(\"Feature-selected data loaded successfully!\")\n",
    "print(\"Selected features:\", X_final.columns.tolist())"
   ]
  },
  {
   "cell_type": "code",
   "execution_count": 111,
   "id": "dca6211a-a97a-47f7-ba5e-9e98dc3398ff",
   "metadata": {},
   "outputs": [
    {
     "name": "stdout",
     "output_type": "stream",
     "text": [
      "Accuracy: 0.9929078014184397\n",
      "\n",
      "Classification Report:\n",
      "               precision    recall  f1-score   support\n",
      "\n",
      "         0.0       0.98      1.00      0.99        54\n",
      "         1.0       1.00      0.99      0.99        87\n",
      "\n",
      "    accuracy                           0.99       141\n",
      "   macro avg       0.99      0.99      0.99       141\n",
      "weighted avg       0.99      0.99      0.99       141\n",
      "\n",
      "\n",
      "Confusion Matrix:\n",
      " [[54  0]\n",
      " [ 1 86]]\n"
     ]
    }
   ],
   "source": [
    "# 1. Logistic Regression\n",
    "from sklearn.linear_model import LogisticRegression\n",
    "\n",
    "# Define features and target\n",
    "# Target: Affects_Academic_Performance_Yes (1 = Yes, 0 = No)\n",
    "y = df_final_encoded['Affects_Academic_Performance_Yes']\n",
    "\n",
    "# Features: choose relevant ones (you can also include all other numeric/encoded columns)\n",
    "features = [\n",
    "    'Avg_Daily_Usage_Hours', \n",
    "    'Sleep_Hours_Per_Night', \n",
    "    'Mental_Health_Score', \n",
    "    'Addicted_Score',\n",
    "    'Gender_Male',\n",
    "    'Academic_Level_High School',\n",
    "    'Academic_Level_Undergraduate',\n",
    "    'Relationship_Status_In Relationship',\n",
    "    'Relationship_Status_Single'\n",
    "]\n",
    "\n",
    "X = df_final_encoded[features]\n",
    "\n",
    "\n",
    "# Train/Test Split\n",
    "\n",
    "X_train, X_test, y_train, y_test = train_test_split(\n",
    "    X, y, test_size=0.2, random_state=42\n",
    ")\n",
    "\n",
    "# Train Logistic Regression\n",
    "\n",
    "logreg = LogisticRegression(max_iter=1000)  # Increase max_iter if it doesn’t converge\n",
    "logreg.fit(X_train, y_train)\n",
    "\n",
    "# Predictions & Evaluation\n",
    "\n",
    "y_pred = logreg.predict(X_test)\n",
    "\n",
    "print(\"Accuracy:\", accuracy_score(y_test, y_pred))\n",
    "print(\"\\nClassification Report:\\n\", classification_report(y_test, y_pred))\n",
    "print(\"\\nConfusion Matrix:\\n\", confusion_matrix(y_test, y_pred))"
   ]
  },
  {
   "cell_type": "markdown",
   "id": "2982eb5c-b64f-4dc1-b670-ada9fddda281",
   "metadata": {},
   "source": [
    "### **1️⃣What the code does**\n",
    "\n",
    "1. **Define target (y)**:\n",
    "    - Affects_Academic_Performance_Yes — binary (1 = Yes, 0 = No).\n",
    "2. **Select features (X)**:\n",
    "    - Avg_Daily_Usage_Hours, Sleep_Hours_Per_Night, Mental_Health_Score , Addicted_Score → main numeric predictors.\n",
    "    - Gender_Male , Academic_Level_High School, Academic_Level_Undergraduate , Relationship_Status_In Relationship, Relationship_Status_Single → encoded categorical variables.\n",
    "3. **Split data**:\n",
    "    - 80% for training, 20% for testing (train_test_split).\n",
    "4. **Train model**:\n",
    "    - LogisticRegression fits the model to predict probability of academic performance being affected.\n",
    "5. **Predict & evaluate**:\n",
    "    - y_pred = logreg.predict(X_test) predicts 0 or 1 for the test set.\n",
    "    - Metrics used:\n",
    "        - **Accuracy** – overall correctness.\n",
    "        - **Classification report** – precision, recall, f1-score for each class.\n",
    "        - **Confusion matrix** – actual vs predicted counts.\n",
    "\n",
    "### **2️⃣ Interpreting your output**\n",
    "\n",
    "**Accuracy: 0.9929**\n",
    "\n",
    "- The model correctly predicts **~99%** of students’ academic impact.\n",
    "- **Precision**: When the model predicts “Yes”, how often is it correct?\n",
    "- **Recall**: Of all actual “Yes” cases, how many did it catch?\n",
    "- **F1-score**: Harmonic mean of precision & recall (balance).\n",
    "- **Support**: Number of actual samples in each class.\n",
    "- **Confusion Matrix**\n",
    "\n",
    "Row = actual, Column = predicted\n",
    "\n",
    "- 54 students correctly predicted as **No**\n",
    "- 86 students correctly predicted as **Yes**\n",
    "- 1 student misclassified (actual Yes → predicted No)"
   ]
  },
  {
   "cell_type": "code",
   "execution_count": null,
   "id": "31a08a5d-f3aa-4d45-921c-458244e27dda",
   "metadata": {},
   "outputs": [],
   "source": []
  }
 ],
 "metadata": {
  "kernelspec": {
   "display_name": "Python 3 (ipykernel)",
   "language": "python",
   "name": "python3"
  },
  "language_info": {
   "codemirror_mode": {
    "name": "ipython",
    "version": 3
   },
   "file_extension": ".py",
   "mimetype": "text/x-python",
   "name": "python",
   "nbconvert_exporter": "python",
   "pygments_lexer": "ipython3",
   "version": "3.12.2"
  }
 },
 "nbformat": 4,
 "nbformat_minor": 5
}
