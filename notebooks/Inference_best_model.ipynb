{
 "cells": [
  {
   "cell_type": "code",
   "execution_count": 3,
   "id": "a0818b13-2af4-49fe-9034-cf27f57a8ce8",
   "metadata": {},
   "outputs": [
    {
     "name": "stdout",
     "output_type": "stream",
     "text": [
      "Loaded trained model\n",
      "Please enter the following information to predict the social media addiction score:\n"
     ]
    },
    {
     "name": "stdin",
     "output_type": "stream",
     "text": [
      "Enter Age (e.g., 20):  20\n",
      "Enter Gender (e.g., Male, Female):  male\n",
      "Enter Academic Level (e.g., Undergraduate, High School, Postgraduate):  high school\n",
      "Enter Avg. Daily Usage Hours (e.g., 5.5):  3\n",
      "Enter Most Used Platform (e.g., Instagram, Facebook, TikTok):  tiktok\n",
      "Does social media affect academic performance? (Yes/No):  yes\n",
      "Enter Sleep Hours Per Night (e.g., 6.0):  2\n",
      "Enter Mental Health Score (0-10, e.g., 5):  4\n",
      "Enter Relationship Status (e.g., In Relationship, Single, Complicated):  single\n",
      "Enter Conflicts Over Social Media (0-10, e.g., 2):  3\n"
     ]
    },
    {
     "name": "stdout",
     "output_type": "stream",
     "text": [
      "\n",
      "--- Prediction Results ---\n",
      "Predicted Score: 7.34\n",
      "Addiction Level: High\n"
     ]
    }
   ],
   "source": [
    "import pandas as pd\n",
    "import joblib\n",
    "\n",
    "# Load saved model\n",
    "model_pipeline = joblib.load(\"addiction_score_pipeline.tuned.joblib\")\n",
    "print(\"Loaded trained model\")\n",
    "\n",
    "# Prediction\n",
    "def predict_addiction_score(new_data):\n",
    "    new_data_df = pd.DataFrame(new_data)\n",
    "    predictions = model_pipeline.predict(new_data_df)\n",
    "    return predictions\n",
    "\n",
    "def categorize_addiction(score):\n",
    "    if score <= 3:\n",
    "        return \"Low\"\n",
    "    elif score <= 6:\n",
    "        return \"Moderate\"\n",
    "    else:\n",
    "        return \"High\"\n",
    "\n",
    "def get_user_data():\n",
    "    print(\"Please enter the following information to predict the social media addiction score:\")\n",
    "    \n",
    "    user_data = {}\n",
    "    try:\n",
    "        user_data['Age'] = int(input(\"Enter Age (e.g., 20): \"))\n",
    "        user_data['Gender'] = input(\"Enter Gender (e.g., Male, Female): \")\n",
    "        user_data['Academic_Level'] = input(\"Enter Academic Level (e.g., Undergraduate, High School, Postgraduate): \")\n",
    "        user_data['Avg_Daily_Usage_Hours'] = float(input(\"Enter Avg. Daily Usage Hours (e.g., 5.5): \"))\n",
    "        user_data['Most_Used_Platform'] = input(\"Enter Most Used Platform (e.g., Instagram, Facebook, TikTok): \")\n",
    "        user_data['Affects_Academic_Performance'] = input(\"Does social media affect academic performance? (Yes/No): \")\n",
    "        user_data['Sleep_Hours_Per_Night'] = float(input(\"Enter Sleep Hours Per Night (e.g., 6.0): \"))\n",
    "        user_data['Mental_Health_Score'] = int(input(\"Enter Mental Health Score (0-10, e.g., 5): \"))\n",
    "        user_data['Relationship_Status'] = input(\"Enter Relationship Status (e.g., In Relationship, Single, Complicated): \")\n",
    "        user_data['Conflicts_Over_Social_Media'] = int(input(\"Enter Conflicts Over Social Media (0-10, e.g., 2): \"))\n",
    "    except ValueError:\n",
    "        print(\"\\nInvalid input. Please enter numbers for numeric fields.\")\n",
    "        return None\n",
    "        \n",
    "    return [user_data]\n",
    "\n",
    "\n",
    "# Run\n",
    "user_input_data = get_user_data()\n",
    "if user_input_data:\n",
    "    predicted_score = predict_addiction_score(user_input_data)\n",
    "    level = categorize_addiction(predicted_score[0])\n",
    "\n",
    "    print(\"\\n--- Prediction Results ---\")\n",
    "    print(f\"Predicted Score: {predicted_score[0]:.2f}\")\n",
    "    print(f\"Addiction Level: {level}\")\n"
   ]
  },
  {
   "cell_type": "markdown",
   "id": "0bc4738d-658d-4abd-905e-e9cac227615e",
   "metadata": {},
   "source": [
    "**Code Explination**\n",
    "- Loads the ML pipeline (`addiction_score_pipeline.tuned.joblib`) from disk.\n",
    "- This model will be used to make predictions.\n",
    "- **predict_addiction_score(new_data) t**akes user data as input.\n",
    "- Converts it into a **DataFrame** (because the pipeline expects tabular format).\n",
    "- Returns the **predicted score(s)**.\n",
    "- Converts the **numeric addiction score** into a **category**:\n",
    "- `<= 3` → Low\n",
    "- `<= 6` → Moderate\n",
    "- `> 6` → High\n",
    "- Asks user to manually input required details.\n",
    "- Stores them in a dictionary.\n",
    "- Returns a list with one dictionary (`[user_data]`) → makes it compatible with DataFrame.\n",
    "- Calls `get_user_data()` to collect input.\n",
    "- If input is valid → calls model to predict addiction score.\n",
    "- Classifies score into **Low/Moderate/High**.\n",
    "- Prints result in a user-friendly way.\n",
    "\n",
    "**Output Explination**\n",
    "\n",
    "The model predicts that a 20-year-old high school student, sleeping only 2 hours/day, spending 3 hours on TikTok, and experiencing academic + social conflicts, is at High risk of social media addiction."
   ]
  },
  {
   "cell_type": "code",
   "execution_count": null,
   "id": "a7400af0-6b0b-44a9-be8d-8304e61243f5",
   "metadata": {},
   "outputs": [],
   "source": []
  }
 ],
 "metadata": {
  "kernelspec": {
   "display_name": "Python 3 (ipykernel)",
   "language": "python",
   "name": "python3"
  },
  "language_info": {
   "codemirror_mode": {
    "name": "ipython",
    "version": 3
   },
   "file_extension": ".py",
   "mimetype": "text/x-python",
   "name": "python",
   "nbconvert_exporter": "python",
   "pygments_lexer": "ipython3",
   "version": "3.12.2"
  }
 },
 "nbformat": 4,
 "nbformat_minor": 5
}
