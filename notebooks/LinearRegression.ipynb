{
 "cells": [
  {
   "cell_type": "code",
   "execution_count": 6,
   "id": "ad49edd1-1180-4822-920c-06e235f78d82",
   "metadata": {},
   "outputs": [
    {
     "name": "stdout",
     "output_type": "stream",
     "text": [
      "Preprocessed data loaded successfully!\n",
      "Feature-selected data loaded successfully!\n",
      "Selected features: ['Mental_Health_Score', 'Sleep_Hours_Per_Night', 'Avg_Daily_Usage_Hours', 'Affects_Academic_Performance_Yes']\n"
     ]
    }
   ],
   "source": [
    "import os\n",
    "import joblib\n",
    "import pandas as pd\n",
    "import numpy as np\n",
    "from sklearn.ensemble import RandomForestRegressor\n",
    "import matplotlib.pyplot as plt\n",
    "import seaborn as sns\n",
    "from sklearn.model_selection import train_test_split\n",
    "from sklearn.metrics import mean_squared_error, r2_score\n",
    "# Load preprocessed data\n",
    "preprocessing_objects = joblib.load(\"../outputs/preprocessing_all.pkl\")\n",
    "\n",
    "df_final_encoded = preprocessing_objects[\"data\"]\n",
    "binary_encoder = preprocessing_objects[\"binary_encoder\"]\n",
    "multi_encoder = preprocessing_objects[\"multi_encoder\"]\n",
    "\n",
    "print(\"Preprocessed data loaded successfully!\")\n",
    "\n",
    "# Load model training data with feature selection\n",
    "training_data = joblib.load(\"../outputs/model_training_data_with_features.pkl\")\n",
    "\n",
    "X_final = training_data[\"X_final\"]  # Only feature-selected columns\n",
    "y = training_data[\"y\"]              # Target variable\n",
    "\n",
    "print(\"Feature-selected data loaded successfully!\")\n",
    "print(\"Selected features:\", X_final.columns.tolist())"
   ]
  },
  {
   "cell_type": "code",
   "execution_count": 8,
   "id": "1c9c19ac-1166-46bd-a2b0-6f05e4b23d77",
   "metadata": {},
   "outputs": [
    {
     "name": "stdout",
     "output_type": "stream",
     "text": [
      "Linear Regression Results:\n",
      "MSE: 0.1453\n",
      "RMSE: 0.3812\n",
      "R² Score: 0.9419\n"
     ]
    }
   ],
   "source": [
    "from sklearn.linear_model import LinearRegression\n",
    "\n",
    "X_train, X_test, y_train, y_test = train_test_split(\n",
    "    X_final, y, test_size=0.2, random_state=42\n",
    ")\n",
    "# Initialize Linear Regression\n",
    "lr_model = LinearRegression()\n",
    "\n",
    "# Train the model\n",
    "lr_model.fit(X_train, y_train)\n",
    "\n",
    "# Predict on test set\n",
    "y_pred_lr = lr_model.predict(X_test)\n",
    "\n",
    "# Evaluate performance\n",
    "mse_lr = mean_squared_error(y_test, y_pred_lr)\n",
    "rmse_lr = np.sqrt(mse_lr)\n",
    "r2_lr = r2_score(y_test, y_pred_lr)\n",
    "\n",
    "print(\"Linear Regression Results:\")\n",
    "print(f\"MSE: {mse_lr:.4f}\")\n",
    "print(f\"RMSE: {rmse_lr:.4f}\")\n",
    "print(f\"R² Score: {r2_lr:.4f}\")"
   ]
  },
  {
   "cell_type": "markdown",
   "id": "e48cd3cb-1002-4e42-8c49-878d952c2795",
   "metadata": {},
   "source": [
    "**Coode Explination**\n",
    "- The model is initialized with `LinearRegression()`, which assumes a **linear relationship** between features and target.\n",
    "- The model **learns patterns** from the training data (`X_train`, `y_train`).\n",
    "- After training, it predicts addiction scores for the **unseen test data** (`X_test`).\n",
    "- `y_pred_lr` is an array of predicted values for each test sample.\n",
    "- **MSE (Mean Squared Error):** Average squared difference between actual and predicted values.\n",
    "- **RMSE (Root Mean Squared Error):** Square root of MSE, giving error in the same scale as the target.\n",
    "- **R² Score (Coefficient of Determination):** Measures how well the model explains variance in the target.\n",
    "    - R² = 1 → perfect prediction\n",
    "    - R² = 0 → model cannot explain variance\n",
    "\n",
    "**Output Explination**\n",
    "- **MSE = 0.1453** → On average, the **squared error** between predicted and actual addiction scores is 0.1453.\n",
    "- **RMSE = 0.3812** → On average, predictions are off by about **0.38 points** from the true addiction score.\n",
    "- **R² = 0.9419** → The model explains **94.2% of the variance** in addiction scores.\n",
    "\n",
    "✅ **Interpretation:**\n",
    "\n",
    "- Linear Regression is **reasonably accurate**, but not as precise as Gradient Boosting or Random Forest.\n",
    "- Since it assumes a **linear relationship**, it can’t capture complex patterns perfectly, which is why RMSE is higher and R² slightly lower compared to ensemble models."
   ]
  },
  {
   "cell_type": "code",
   "execution_count": 9,
   "id": "dba4f216-99a4-41c0-86e3-7ec9517e2749",
   "metadata": {},
   "outputs": [
    {
     "data": {
      "image/png": "[encoded data removed]",
      "text/plain": [
       "<Figure size 1000x600 with 1 Axes>"
      ]
     },
     "metadata": {},
     "output_type": "display_data"
    }
   ],
   "source": [
    "# Prepare data in long format for Seaborn\n",
    "data = {\n",
    "    \"Model\": [\"Random Forest\", \"Gradient Boosting\", \"XGBoost\"] * 3,\n",
    "    \"Metric\": [\"MSE\"]*3 + [\"RMSE\"]*3 + [\"R²\"]*3,\n",
    "    \"Value\": [0.0388, 0.0480, 0.0493, 0.1969, 0.2191, 0.2219, 0.9846, 0.9808, 0.9803]\n",
    "}\n",
    "\n",
    "df_plot = pd.DataFrame(data)\n",
    "\n",
    "# Plot\n",
    "plt.figure(figsize=(10,6))\n",
    "sns.barplot(x=\"Model\", y=\"Value\", hue=\"Metric\", data=df_plot, palette=\"Dark2\")\n",
    "\n",
    "plt.title(\"Model Performance Comparison\")\n",
    "plt.ylabel(\"Score\")\n",
    "plt.show()"
   ]
  },
  {
   "cell_type": "markdown",
   "id": "2183bace-001c-4cf5-9efc-307be4e1ef58",
   "metadata": {},
   "source": [
    "## Output Comparison\n",
    "- **Gradient Boosting vs XGBoost**\n",
    "    - Both are boosting methods, so their results are very close.\n",
    "    - Gradient Boosting slightly **better MSE/RMSE and R²** in my case, meaning it predicts slightly more accurately.\n",
    "- **Linear Regression**\n",
    "    - Much higher MSE and RMSE → predictions are **less precise**.\n",
    "    - Lower R² → explains slightly less variance in addiction scores.\n",
    "    - This is expected because it assumes a **linear relationship**, which may not capture all patterns in your dataset.\n",
    "- **Overall**\n",
    "    - **Gradient Boosting** → best performance.\n",
    "    - **XGBoost** → very close, also excellent.\n",
    "    - **Linear Regression** → okay, but less accurate for this complex data."
   ]
  },
  {
   "cell_type": "code",
   "execution_count": null,
   "id": "a0d3e4af-2a98-4faa-b426-cf88b8f13a88",
   "metadata": {},
   "outputs": [],
   "source": []
  }
 ],
 "metadata": {
  "kernelspec": {
   "display_name": "Python 3 (ipykernel)",
   "language": "python",
   "name": "python3"
  },
  "language_info": {
   "codemirror_mode": {
    "name": "ipython",
    "version": 3
   },
   "file_extension": ".py",
   "mimetype": "text/x-python",
   "name": "python",
   "nbconvert_exporter": "python",
   "pygments_lexer": "ipython3",
   "version": "3.12.2"
  }
 },
 "nbformat": 4,
 "nbformat_minor": 5
}
