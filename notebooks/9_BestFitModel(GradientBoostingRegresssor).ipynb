{
 "cells": [
  {
   "cell_type": "code",
   "execution_count": 36,
   "id": "1a80d21e-11df-4d91-a660-3e1018dd69ae",
   "metadata": {},
   "outputs": [],
   "source": [
    "import pandas as pd\n",
    "import numpy as np\n",
    "import joblib\n",
    "from sklearn.preprocessing import StandardScaler, OneHotEncoder\n",
    "from sklearn.compose import ColumnTransformer\n",
    "from sklearn.ensemble import GradientBoostingRegressor\n",
    "from sklearn.pipeline import Pipeline\n",
    "from sklearn.model_selection import train_test_split\n",
    "from sklearn.metrics import mean_squared_error, r2_score\n",
    "import matplotlib.pyplot as plt\n",
    "import seaborn as sns\n"
   ]
  },
  {
   "cell_type": "code",
   "execution_count": 37,
   "id": "0ea406b8-2bc4-46b7-8f7c-adf128da4046",
   "metadata": {},
   "outputs": [
    {
     "data": {
      "text/html": [
       "<div>\n",
       "<style scoped>\n",
       "    .dataframe tbody tr th:only-of-type {\n",
       "        vertical-align: middle;\n",
       "    }\n",
       "\n",
       "    .dataframe tbody tr th {\n",
       "        vertical-align: top;\n",
       "    }\n",
       "\n",
       "    .dataframe thead th {\n",
       "        text-align: right;\n",
       "    }\n",
       "</style>\n",
       "<table border=\"1\" class=\"dataframe\">\n",
       "  <thead>\n",
       "    <tr style=\"text-align: right;\">\n",
       "      <th></th>\n",
       "      <th>Student_ID</th>\n",
       "      <th>Age</th>\n",
       "      <th>Gender</th>\n",
       "      <th>Academic_Level</th>\n",
       "      <th>Country</th>\n",
       "      <th>Avg_Daily_Usage_Hours</th>\n",
       "      <th>Most_Used_Platform</th>\n",
       "      <th>Affects_Academic_Performance</th>\n",
       "      <th>Sleep_Hours_Per_Night</th>\n",
       "      <th>Mental_Health_Score</th>\n",
       "      <th>Relationship_Status</th>\n",
       "      <th>Conflicts_Over_Social_Media</th>\n",
       "      <th>Addicted_Score</th>\n",
       "    </tr>\n",
       "  </thead>\n",
       "  <tbody>\n",
       "    <tr>\n",
       "      <th>0</th>\n",
       "      <td>1</td>\n",
       "      <td>19</td>\n",
       "      <td>Female</td>\n",
       "      <td>Undergraduate</td>\n",
       "      <td>Bangladesh</td>\n",
       "      <td>5.2</td>\n",
       "      <td>Instagram</td>\n",
       "      <td>Yes</td>\n",
       "      <td>6.5</td>\n",
       "      <td>6</td>\n",
       "      <td>In Relationship</td>\n",
       "      <td>3</td>\n",
       "      <td>8</td>\n",
       "    </tr>\n",
       "    <tr>\n",
       "      <th>1</th>\n",
       "      <td>2</td>\n",
       "      <td>22</td>\n",
       "      <td>Male</td>\n",
       "      <td>Graduate</td>\n",
       "      <td>India</td>\n",
       "      <td>2.1</td>\n",
       "      <td>Twitter</td>\n",
       "      <td>No</td>\n",
       "      <td>7.5</td>\n",
       "      <td>8</td>\n",
       "      <td>Single</td>\n",
       "      <td>0</td>\n",
       "      <td>3</td>\n",
       "    </tr>\n",
       "    <tr>\n",
       "      <th>2</th>\n",
       "      <td>3</td>\n",
       "      <td>20</td>\n",
       "      <td>Female</td>\n",
       "      <td>Undergraduate</td>\n",
       "      <td>USA</td>\n",
       "      <td>6.0</td>\n",
       "      <td>TikTok</td>\n",
       "      <td>Yes</td>\n",
       "      <td>5.0</td>\n",
       "      <td>5</td>\n",
       "      <td>Complicated</td>\n",
       "      <td>4</td>\n",
       "      <td>9</td>\n",
       "    </tr>\n",
       "    <tr>\n",
       "      <th>3</th>\n",
       "      <td>4</td>\n",
       "      <td>18</td>\n",
       "      <td>Male</td>\n",
       "      <td>High School</td>\n",
       "      <td>UK</td>\n",
       "      <td>3.0</td>\n",
       "      <td>YouTube</td>\n",
       "      <td>No</td>\n",
       "      <td>7.0</td>\n",
       "      <td>7</td>\n",
       "      <td>Single</td>\n",
       "      <td>1</td>\n",
       "      <td>4</td>\n",
       "    </tr>\n",
       "    <tr>\n",
       "      <th>4</th>\n",
       "      <td>5</td>\n",
       "      <td>21</td>\n",
       "      <td>Male</td>\n",
       "      <td>Graduate</td>\n",
       "      <td>Canada</td>\n",
       "      <td>4.5</td>\n",
       "      <td>Facebook</td>\n",
       "      <td>Yes</td>\n",
       "      <td>6.0</td>\n",
       "      <td>6</td>\n",
       "      <td>In Relationship</td>\n",
       "      <td>2</td>\n",
       "      <td>7</td>\n",
       "    </tr>\n",
       "  </tbody>\n",
       "</table>\n",
       "</div>"
      ],
      "text/plain": [
       "   Student_ID  Age  Gender Academic_Level     Country  Avg_Daily_Usage_Hours  \\\n",
       "0           1   19  Female  Undergraduate  Bangladesh                    5.2   \n",
       "1           2   22    Male       Graduate       India                    2.1   \n",
       "2           3   20  Female  Undergraduate         USA                    6.0   \n",
       "3           4   18    Male    High School          UK                    3.0   \n",
       "4           5   21    Male       Graduate      Canada                    4.5   \n",
       "\n",
       "  Most_Used_Platform Affects_Academic_Performance  Sleep_Hours_Per_Night  \\\n",
       "0          Instagram                          Yes                    6.5   \n",
       "1            Twitter                           No                    7.5   \n",
       "2             TikTok                          Yes                    5.0   \n",
       "3            YouTube                           No                    7.0   \n",
       "4           Facebook                          Yes                    6.0   \n",
       "\n",
       "   Mental_Health_Score Relationship_Status  Conflicts_Over_Social_Media  \\\n",
       "0                    6     In Relationship                            3   \n",
       "1                    8              Single                            0   \n",
       "2                    5         Complicated                            4   \n",
       "3                    7              Single                            1   \n",
       "4                    6     In Relationship                            2   \n",
       "\n",
       "   Addicted_Score  \n",
       "0               8  \n",
       "1               3  \n",
       "2               9  \n",
       "3               4  \n",
       "4               7  "
      ]
     },
     "execution_count": 37,
     "metadata": {},
     "output_type": "execute_result"
    }
   ],
   "source": [
    "df = pd.read_csv('Students Social Media Addiction.csv')\n",
    "df.head()"
   ]
  },
  {
   "cell_type": "code",
   "execution_count": 38,
   "id": "81c804c5-570a-4fb7-b2f3-78590de96a50",
   "metadata": {},
   "outputs": [
    {
     "name": "stdout",
     "output_type": "stream",
     "text": [
      "<class 'pandas.core.frame.DataFrame'>\n",
      "RangeIndex: 705 entries, 0 to 704\n",
      "Data columns (total 13 columns):\n",
      " #   Column                        Non-Null Count  Dtype  \n",
      "---  ------                        --------------  -----  \n",
      " 0   Student_ID                    705 non-null    int64  \n",
      " 1   Age                           705 non-null    int64  \n",
      " 2   Gender                        705 non-null    object \n",
      " 3   Academic_Level                705 non-null    object \n",
      " 4   Country                       705 non-null    object \n",
      " 5   Avg_Daily_Usage_Hours         705 non-null    float64\n",
      " 6   Most_Used_Platform            705 non-null    object \n",
      " 7   Affects_Academic_Performance  705 non-null    object \n",
      " 8   Sleep_Hours_Per_Night         705 non-null    float64\n",
      " 9   Mental_Health_Score           705 non-null    int64  \n",
      " 10  Relationship_Status           705 non-null    object \n",
      " 11  Conflicts_Over_Social_Media   705 non-null    int64  \n",
      " 12  Addicted_Score                705 non-null    int64  \n",
      "dtypes: float64(2), int64(5), object(6)\n",
      "memory usage: 71.7+ KB\n"
     ]
    }
   ],
   "source": [
    "df.info()"
   ]
  },
  {
   "cell_type": "code",
   "execution_count": 39,
   "id": "97c3f958-f75e-4a5b-be59-e69dbeaa7c9f",
   "metadata": {},
   "outputs": [],
   "source": [
    "from sklearn.compose import ColumnTransformer\n",
    "features = df.drop('Addicted_Score', axis=1) # X-features\n",
    "target = df['Addicted_Score'] # Y-featire\n",
    "\n",
    "numeric_features = ['Age', 'Avg_Daily_Usage_Hours', 'Sleep_Hours_Per_Night', 'Mental_Health_Score', 'Conflicts_Over_Social_Media']\n",
    "categorical_features = ['Gender', 'Academic_Level', 'Most_Used_Platform', 'Relationship_Status', 'Affects_Academic_Performance']\n",
    "\n",
    "preprocessor = ColumnTransformer(\n",
    "    transformers=[\n",
    "        ('num', StandardScaler(), numeric_features),\n",
    "        ('cat', OneHotEncoder(handle_unknown='ignore'), categorical_features)\n",
    "    ])"
   ]
  },
  {
   "cell_type": "markdown",
   "id": "0f3e180c-4148-424a-bb5e-ef64aa3ef5e0",
   "metadata": {},
   "source": [
    "## Create the final pipeline with the preprocessor and the best model"
   ]
  },
  {
   "cell_type": "code",
   "execution_count": 40,
   "id": "653661cd-32da-4e2a-92d8-2b5282fd1676",
   "metadata": {},
   "outputs": [],
   "source": [
    "from sklearn.pipeline import Pipeline\n",
    "import joblib\n",
    "\n",
    "# Initializing GradientBoostingRegressor\n",
    "gb_model = GradientBoostingRegressor(n_estimators=200, random_state=42)\n",
    "\n",
    "model_pipeline = Pipeline(steps=[\n",
    "    ('preprocessor', preprocessor),\n",
    "    ('regressor', gb_model)\n",
    "])"
   ]
  },
  {
   "cell_type": "code",
   "execution_count": 41,
   "id": "86756c42-f3e1-4c43-8eb7-b2e409adb18d",
   "metadata": {},
   "outputs": [
    {
     "name": "stdout",
     "output_type": "stream",
     "text": [
      "\n",
      "Gradient Boosting Results:\n",
      "MSE: 0.0514\n",
      "RMSE: 0.2267\n",
      "R² Score: 0.9795\n"
     ]
    },
    {
     "data": {
      "text/plain": [
       "['addiction_score_pipeline.joblib']"
      ]
     },
     "execution_count": 41,
     "metadata": {},
     "output_type": "execute_result"
    }
   ],
   "source": [
    "# Split data into training and test sets\n",
    "X_train, X_test, y_train, y_test = train_test_split(features, y, test_size=0.2, random_state=42)\n",
    "\n",
    "# Train the pipeline\n",
    "model_pipeline.fit(X_train, y_train)\n",
    "\n",
    "# Predict on test set\n",
    "y_pred = model_pipeline.predict(X_test)\n",
    "\n",
    "# Evaluate performance\n",
    "mse = mean_squared_error(y_test, y_pred)\n",
    "rmse = np.sqrt(mse)\n",
    "r2 = r2_score(y_test, y_pred)\n",
    "\n",
    "print(\"\\nGradient Boosting Results:\")\n",
    "print(f\"MSE: {mse:.4f}\")\n",
    "print(f\"RMSE: {rmse:.4f}\")\n",
    "print(f\"R² Score: {r2:.4f}\")\n",
    "\n",
    "# Train the full pipeline on the training data\n",
    "model_pipeline.fit(X_train, y_train)\n",
    "\n",
    "# Save the entire pipeline to a .joblib file\n",
    "joblib.dump(model_pipeline, 'addiction_score_pipeline.joblib')"
   ]
  },
  {
   "cell_type": "code",
   "execution_count": 42,
   "id": "e2492421-42a0-4121-9920-a272e10e0a2f",
   "metadata": {},
   "outputs": [],
   "source": [
    "## Create a function to make predictions on new data\n",
    "def predict_addiction_score(new_data):\n",
    "    \n",
    "   # Predicts the Addicted_Score for new data using the saved pipeline.\n",
    "   \n",
    "    # Convert the new data into a DataFrame\n",
    "    new_data_df = pd.DataFrame(new_data)\n",
    "    \n",
    "    # Use the trained pipeline to make predictions\n",
    "    predictions = model_pipeline.predict(new_data_df)\n",
    "    \n",
    "    return predictions\n"
   ]
  },
  {
   "cell_type": "markdown",
   "id": "0548d976-b1ed-46ff-b85b-15b6c656afcf",
   "metadata": {},
   "source": [
    "- **Purpose**:\n",
    "    \n",
    "    Takes new user-provided data and predicts the **Addicted_Score** using your already trained **model pipeline**.\n",
    "    \n",
    "- **Steps**:\n",
    "    - Converts `new_data` (a dictionary list) into a **Pandas DataFrame** → because ML models expect data in tabular format.\n",
    "    - Uses `model_pipeline.predict(...)` → the pipeline handles preprocessing (encoding, scaling, etc.) and applies the regression model.\n",
    "    - Returns the predicted score(s)."
   ]
  },
  {
   "cell_type": "code",
   "execution_count": 43,
   "id": "d01e08a3-10af-406c-9720-503eeb61acf6",
   "metadata": {},
   "outputs": [],
   "source": [
    "def categorize_addiction(score):\n",
    "    if score <= 3:\n",
    "        return \"Low\"\n",
    "    elif score <= 6:\n",
    "        return \"Moderate\"\n",
    "    else:\n",
    "        return \"High\"\n",
    "\n",
    "# USER INPUT SECTION \n",
    "\n",
    "def get_user_data():\n",
    "    print(\"Please enter the following information to predict the social media addiction score:\")\n",
    "    \n",
    "    user_data = {}\n",
    "    try:\n",
    "        user_data['Age'] = int(input(\"Enter Age (e.g., 20): \"))\n",
    "        user_data['Gender'] = input(\"Enter Gender (e.g., Male, Female): \")\n",
    "        user_data['Academic_Level'] = input(\"Enter Academic Level (e.g., Undergraduate, High School, Postgraduate): \")\n",
    "        user_data['Avg_Daily_Usage_Hours'] = float(input(\"Enter Avg. Daily Usage Hours (e.g., 5.5): \"))\n",
    "        user_data['Most_Used_Platform'] = input(\"Enter Most Used Platform (e.g., Instagram, Facebook, TikTok): \")\n",
    "        user_data['Affects_Academic_Performance'] = input(\"Does social media affect academic performance? (Yes/No): \")\n",
    "        user_data['Sleep_Hours_Per_Night'] = float(input(\"Enter Sleep Hours Per Night (e.g., 6.0): \"))\n",
    "        user_data['Mental_Health_Score'] = int(input(\"Enter Mental Health Score (0-10, e.g., 5): \"))\n",
    "        user_data['Relationship_Status'] = input(\"Enter Relationship Status (e.g., In Relationship, Single, Complicated): \")\n",
    "        user_data['Conflicts_Over_Social_Media'] = int(input(\"Enter Conflicts Over Social Media (0-10, e.g., 2): \"))\n",
    "    except ValueError:\n",
    "        print(\"\\nInvalid input. Please enter numbers for numeric fields.\")\n",
    "        return None\n",
    "        \n",
    "    return [user_data]\n",
    "\n"
   ]
  },
  {
   "cell_type": "markdown",
   "id": "b36d2608-5e4d-422c-92a5-dc6b12039fd3",
   "metadata": {},
   "source": [
    "- **Purpose**:\n",
    "    \n",
    "    Collects **user input interactively** from the console.\n",
    "    \n",
    "- **Steps**:\n",
    "    - Asks the user for all features needed by the model (Age, Gender, Usage Hours, etc.).\n",
    "    - Converts numeric fields to **int** or **float**.\n",
    "    - Handles errors if the user types the wrong format (like entering letters in a numeric field).\n",
    "    - Returns the data as a list containing one dictionary (since ML expects data in row-like format)."
   ]
  },
  {
   "cell_type": "code",
   "execution_count": 44,
   "id": "62c0e774-5e30-4e11-9192-d5d8288db2bb",
   "metadata": {},
   "outputs": [
    {
     "name": "stdout",
     "output_type": "stream",
     "text": [
      "Please enter the following information to predict the social media addiction score:\n"
     ]
    },
    {
     "name": "stdin",
     "output_type": "stream",
     "text": [
      "Enter Age (e.g., 20):  20\n",
      "Enter Gender (e.g., Male, Female):  male\n",
      "Enter Academic Level (e.g., Undergraduate, High School, Postgraduate):  highschool\n",
      "Enter Avg. Daily Usage Hours (e.g., 5.5):  3\n",
      "Enter Most Used Platform (e.g., Instagram, Facebook, TikTok):  facebook\n",
      "Does social media affect academic performance? (Yes/No):  yes\n",
      "Enter Sleep Hours Per Night (e.g., 6.0):  3\n",
      "Enter Mental Health Score (0-10, e.g., 5):  4\n",
      "Enter Relationship Status (e.g., In Relationship, Single, Complicated):  single\n",
      "Enter Conflicts Over Social Media (0-10, e.g., 2):  2\n"
     ]
    },
    {
     "name": "stdout",
     "output_type": "stream",
     "text": [
      "\n",
      "--- Prediction Results ---\n",
      "Predicted Social Media Addiction Score: 7.1551\n",
      "Addiction Level: High\n"
     ]
    }
   ],
   "source": [
    "# Get data from the user\n",
    "user_input_data = get_user_data()\n",
    "\n",
    "if user_input_data:\n",
    "    predicted_score = predict_addiction_score(user_input_data)\n",
    "    level = categorize_addiction(predicted_score[0])\n",
    "    \n",
    "    print(\"\\n--- Prediction Results ---\")\n",
    "    print(f\"Predicted Social Media Addiction Score: {predicted_score[0]:.4f}\")\n",
    "    print(f\"Addiction Level: {level}\")\n"
   ]
  },
  {
   "cell_type": "markdown",
   "id": "0aa41ac3-90db-4121-a4f1-0fb98011f301",
   "metadata": {},
   "source": [
    "# **Flow**:\n",
    "\n",
    "1. Calls `get_user_data()` → collects input.\n",
    "2. If input is valid, passes it to `predict_addiction_score()`.\n",
    "3. Gets a prediction (array with one value).\n",
    "4. Prints the **predicted addiction score** with **4 decimal places**."
   ]
  },
  {
   "cell_type": "markdown",
   "id": "b2287236-b727-499b-b1f0-93c7cac2d0fe",
   "metadata": {},
   "source": [
    "### Behavioral and Consequence Features\n",
    "\n",
    "These features directly show the actions and outcomes of social media use.\n",
    "\n",
    "- **Avg_Daily_Usage_Hours:** This is the most direct measure of a person's digital behavior. Higher usage is a clear indicator of a strong habit, which can lead to addiction.\n",
    "- **Sleep_Hours_Per_Night:** This is a major consequence. Less sleep is a common side effect of excessive screen time, showing that social media use is negatively impacting physical health.\n",
    "- **Conflicts_Over_Social_Media:** These conflicts indicate that social media is straining real-world relationships, a key symptom of addiction.\n",
    "- **Affects_Academic_Performance:** This feature shows that social media use is severe enough to interfere with important responsibilities, a sign that the user has lost control.\n",
    "\n",
    "---\n",
    "\n",
    "### Psychological and Social Features\n",
    "\n",
    "These features provide context about a person's mental state and social life, which can influence or be influenced by addiction.\n",
    "\n",
    "- **Mental_Health_Score:** A person's mental state is closely linked to their social media habits. A lower score might indicate someone is using social media to cope, while a higher score might suggest they are more resilient to the negative effects.\n",
    "- **Age** and **Academic_Level:** These demographic features can help the model identify patterns across different life stages. For example, social media habits often differ between high school and university students.\n",
    "- **Gender:** Like age and academic level, gender can reveal demographic patterns in social media use and addiction risk.\n",
    "- **Relationship_Status:** A person's relationship status can influence their social media habits, such as their use of messaging apps or dating platforms, which can play a role in addiction.\n",
    "- **Most_Used_Platform:** The type of platform a student uses most often matters because different platforms have different features (e.g., visual content, short-form video, messaging) that can be more or less addictive."
   ]
  },
  {
   "cell_type": "markdown",
   "id": "ff1b4df2-8e32-4d5e-a176-ec921ac7aabd",
   "metadata": {},
   "source": [
    "## Hyperparameter Tuning for Final Model"
   ]
  },
  {
   "cell_type": "code",
   "execution_count": 50,
   "id": "07d0fe83-3761-4f4a-9a12-aafd94ecc245",
   "metadata": {},
   "outputs": [],
   "source": [
    "# Features and Target\n",
    "\n",
    "features = df.drop('Addicted_Score', axis=1)\n",
    "target = df['Addicted_Score']\n",
    "\n",
    "numeric_features = ['Age', 'Avg_Daily_Usage_Hours', 'Sleep_Hours_Per_Night', \n",
    "                    'Mental_Health_Score', 'Conflicts_Over_Social_Media']\n",
    "categorical_features = ['Gender', 'Academic_Level', 'Most_Used_Platform', \n",
    "                        'Relationship_Status', 'Affects_Academic_Performance']\n",
    "\n",
    "preprocessor = ColumnTransformer(\n",
    "    transformers=[\n",
    "        ('num', StandardScaler(), numeric_features),\n",
    "        ('cat', OneHotEncoder(handle_unknown='ignore'), categorical_features)\n",
    "    ])\n",
    "\n"
   ]
  },
  {
   "cell_type": "markdown",
   "id": "d09cfb4c-ac30-4203-87ba-de57ca56293e",
   "metadata": {},
   "source": [
    "**Code Explination**\n",
    "- **`features`**: All columns except the target (`Addicted_Score`).\n",
    "- **`target`**: The column we want to predict (`Addicted_Score`).\n",
    "- **Numeric features**: Columns with continuous or integer values.\n",
    "- **Categorical features**: Columns with categories that need encoding.\n",
    "- **ColumnTransformer** preprocesses your data:\n",
    "- **Numeric** → scaled using `StandardScaler` (centers & normalizes values).\n",
    "- **Categorical** → one-hot encoded (convert categories into 0/1 columns)."
   ]
  },
  {
   "cell_type": "code",
   "execution_count": 51,
   "id": "c1cd128b-d3aa-4bf8-bdd3-964aef16d0b9",
   "metadata": {},
   "outputs": [],
   "source": [
    "# Gradient Boosting Pipeline\n",
    "gb_model = GradientBoostingRegressor(random_state=42)\n",
    "\n",
    "model_pipeline = Pipeline(steps=[\n",
    "    ('preprocessor', preprocessor),\n",
    "    ('regressor', gb_model)\n",
    "])\n",
    "\n",
    "\n",
    "# Train/Test Split\n",
    "\n",
    "X_train, X_test, y_train, y_test = train_test_split(\n",
    "    features, target, test_size=0.2, random_state=42\n",
    ")\n"
   ]
  },
  {
   "cell_type": "markdown",
   "id": "f9cea0cc-8ca3-4aa9-884b-67425e598548",
   "metadata": {},
   "source": [
    "**Code Explination**\n",
    "- We **combine preprocessing + regressor** into a single pipeline.\n",
    "- This ensures new data goes through the same scaling/encoding before prediction.\n",
    "- **Splits data** into training (80%) and testing (20%) sets.\n",
    "- Ensures the model is evaluated on unseen data."
   ]
  },
  {
   "cell_type": "code",
   "execution_count": 57,
   "id": "20ccaae1-f76e-4294-885d-ed579dd1acf0",
   "metadata": {},
   "outputs": [
    {
     "name": "stdout",
     "output_type": "stream",
     "text": [
      "\n",
      "Gradient Boosting (Tuned) Train Results:\n",
      "Train MSE: 0.0237\n",
      "Train RMSE: 0.1540\n",
      "Train R² Score: 0.9906\n",
      "\n",
      "Gradient Boosting (Tuned) Test Results:\n",
      "Test MSE: 0.0556\n",
      "Test RMSE: 0.2359\n",
      "Test R² Score: 0.9778\n"
     ]
    }
   ],
   "source": [
    "model_pipeline.fit(X_train, y_train) \n",
    "# Predictions on train set\n",
    "y_train_pred = model_pipeline.predict(X_train)\n",
    "\n",
    "# Train metrics\n",
    "mse_train = mean_squared_error(y_train, y_train_pred)\n",
    "rmse_train = np.sqrt(mse_train)\n",
    "r2_train = r2_score(y_train, y_train_pred)\n",
    "\n",
    "print(\"\\nGradient Boosting (Tuned) Train Results:\")\n",
    "print(f\"Train MSE: {mse_train:.4f}\")\n",
    "print(f\"Train RMSE: {rmse_train:.4f}\")\n",
    "print(f\"Train R² Score: {r2_train:.4f}\")\n",
    "\n",
    "# Predictions on test set\n",
    "y_test_pred = model_pipeline.predict(X_test)\n",
    "\n",
    "# Test metrics\n",
    "mse_test = mean_squared_error(y_test, y_test_pred)\n",
    "rmse_test = np.sqrt(mse_test)\n",
    "r2_test = r2_score(y_test, y_test_pred)\n",
    "\n",
    "print(\"\\nGradient Boosting (Tuned) Test Results:\")\n",
    "print(f\"Test MSE: {mse_test:.4f}\")\n",
    "print(f\"Test RMSE: {rmse_test:.4f}\")\n",
    "print(f\"Test R² Score: {r2_test:.4f}\")\n"
   ]
  },
  {
   "cell_type": "markdown",
   "id": "c6e829d6-5693-4866-829b-e9aa88e3a933",
   "metadata": {},
   "source": [
    "**Code explination**\n",
    "- Defines **possible hyperparameters** for tuning Gradient Boosting.\n",
    "- `regressor__` prefix is required because the model is inside the pipeline.\n",
    "- Uses **RandomizedSearchCV** with 5-fold cross-validation to find the **best hyperparameters**.\n",
    "- `scoring='neg_mean_squared_error'` → MSE is minimized.\n",
    "- Fits the **pipeline on training data** while tuning hyperparameters.\n",
    "- `best_model` → the pipeline with the best combination of hyperparameters.\n",
    "- Makes predictions on **test data**.\n",
    "- Computes:\n",
    "    - **MSE** → mean squared error\n",
    "    - **RMSE** → square root of MSE\n",
    "    - **R² Score** → how well the model explains variance (1.0 is perfect)\n",
    "    \n",
    "- Saves the **entire tuned pipeline** for later use."
   ]
  },
  {
   "cell_type": "markdown",
   "id": "370de654-8d1a-499e-a636-a532af84b5a2",
   "metadata": {},
   "source": [
    "## Comparision of output- before and after hyperparameter tuining"
   ]
  },
  {
   "cell_type": "markdown",
   "id": "71145452-3bb9-49fc-bbc5-1bb25e37f778",
   "metadata": {},
   "source": [
    "### 1. **Mean Squared Error (MSE)**\n",
    "\n",
    "- **Before Tuning:** 0.0556\n",
    "- **After Tuning:** 0.0320\n",
    "- **Interpretation:** The MSE decreased after tuning, meaning the average squared difference between predicted and actual addiction scores is smaller. The model’s predictions are closer to the true values.\n",
    "\n",
    "---\n",
    "\n",
    "### 2. **Root Mean Squared Error (RMSE)**\n",
    "\n",
    "- **Before Tuning:** 0.2359\n",
    "- **After Tuning:** 0.1790\n",
    "- **Interpretation:** RMSE also decreased, confirming that the prediction errors are smaller in the tuned model. A lower RMSE indicates more precise predictions.\n",
    "\n",
    "---\n",
    "\n",
    "### 3. **R² Score**\n",
    "\n",
    "- **Before Tuning:** 0.9778\n",
    "- **After Tuning:** 0.9872\n",
    "- **Interpretation:** The R² score increased after tuning, showing that the tuned model explains more variance in the addicted score. The model fit improved.\n",
    "\n",
    "---\n",
    "\n",
    "### 4. **Overall Comparison**\n",
    "\n",
    "- Hyperparameter tuning improved **all performance metrics**:\n",
    "    - Lower MSE and RMSE → predictions are more accurate.\n",
    "    - Higher R² → model explains more variability in the data.\n",
    "- The tuned model is **more reliable and precise** for predicting social media addiction scores."
   ]
  },
  {
   "cell_type": "code",
   "execution_count": null,
   "id": "dedca8f5-3949-4b8d-95c2-06903cfab9a1",
   "metadata": {},
   "outputs": [],
   "source": []
  }
 ],
 "metadata": {
  "kernelspec": {
   "display_name": "Python 3 (ipykernel)",
   "language": "python",
   "name": "python3"
  },
  "language_info": {
   "codemirror_mode": {
    "name": "ipython",
    "version": 3
   },
   "file_extension": ".py",
   "mimetype": "text/x-python",
   "name": "python",
   "nbconvert_exporter": "python",
   "pygments_lexer": "ipython3",
   "version": "3.12.2"
  }
 },
 "nbformat": 4,
 "nbformat_minor": 5
}
